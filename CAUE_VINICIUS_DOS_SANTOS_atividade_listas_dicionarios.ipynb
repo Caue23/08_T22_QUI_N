{
  "nbformat": 4,
  "nbformat_minor": 0,
  "metadata": {
    "colab": {
      "name": "CAUE VINICIUS DOS SANTOS - atividade_listas_dicionarios.ipynb",
      "provenance": [],
      "collapsed_sections": [],
      "include_colab_link": true
    },
    "kernelspec": {
      "name": "python3",
      "display_name": "Python 3"
    },
    "language_info": {
      "name": "python"
    }
  },
  "cells": [
    {
      "cell_type": "markdown",
      "metadata": {
        "id": "view-in-github",
        "colab_type": "text"
      },
      "source": [
        "<a href=\"https://colab.research.google.com/github/Caue23/08_T22_QUI_N/blob/main/CAUE_VINICIUS_DOS_SANTOS_atividade_listas_dicionarios.ipynb\" target=\"_parent\"><img src=\"https://colab.research.google.com/assets/colab-badge.svg\" alt=\"Open In Colab\"/></a>"
      ]
    },
    {
      "cell_type": "markdown",
      "metadata": {
        "id": "rLoDvObdGiPW"
      },
      "source": [
        "# Atividade\n",
        "### Entrega: 16/Set\n",
        "### Valor: 100 pontos\n",
        "\n",
        "### Utilizando os dados a seguir, mostre os resultados de **forma individual** para cada curso sendo:\n",
        "\n",
        "* Menor nota\n",
        "* Maior nota\n",
        "* Média das notas"
      ]
    },
    {
      "cell_type": "code",
      "metadata": {
        "id": "ER3woJq1Gxer"
      },
      "source": [
        "# Dados\n",
        "alunos = []\n",
        "alunos.append({'nome': 'Aluno 01', 'curso': 'Ciências da Computação', 'AV1':8 })\n",
        "alunos.append({'nome': 'Aluno 02', 'curso': 'Sistemas de Informação', 'AV1':7 })\n",
        "alunos.append({'nome': 'Aluno 03', 'curso': 'Sistemas de Informação', 'AV1':6 })\n",
        "alunos.append({'nome': 'Aluno 04', 'curso': 'Sistemas de Informação', 'AV1':6 })\n",
        "alunos.append({'nome': 'Aluno 05', 'curso': 'Sistemas de Informação', 'AV1':6 })\n",
        "alunos.append({'nome': 'Aluno 06', 'curso': 'Análise e Desenvolvimento de Sistemas', 'AV1':7 })\n",
        "alunos.append({'nome': 'Aluno 07', 'curso': 'Análise e Desenvolvimento de Sistemas', 'AV1':9 })\n",
        "alunos.append({'nome': 'Aluno 08', 'curso': 'Ciências da Computação', 'AV1':10 })\n",
        "alunos.append({'nome': 'Aluno 09', 'curso': 'Ciências da Computação', 'AV1':10 })\n",
        "alunos.append({'nome': 'Aluno 10', 'curso': 'Ciências da Computação', 'AV1':4 })\n",
        "alunos.append({'nome': 'Aluno 11', 'curso': 'Análise e Desenvolvimento de Sistemas', 'AV1':5 })\n",
        "alunos.append({'nome': 'Aluno 11', 'curso': 'Análise e Desenvolvimento de Sistemas', 'AV1':5 })\n",
        "alunos.append({'nome': 'Aluno 12', 'curso': 'Análise e Desenvolvimento de Sistemas', 'AV1':9 })\n",
        "alunos.append({'nome': 'Aluno 13', 'curso': 'Análise e Desenvolvimento de Sistemas', 'AV1':9 })\n",
        "alunos.append({'nome': 'Aluno 14', 'curso': 'Ciências da Computação', 'AV1': 7})\n",
        "alunos.append({'nome': 'Aluno 15', 'curso': 'Análise e Desenvolvimento de Sistemas', 'AV1':7})\n",
        "alunos.append({'nome': 'Aluno 16', 'curso': 'Ciências da Computação', 'AV1': 6})\n",
        "alunos.append({'nome': 'Aluno 17', 'curso': 'Análise e Desenvolvimento de Sistemas', 'AV1':8 })\n",
        "alunos.append({'nome': 'Aluno 18', 'curso': 'Ciências da Computação', 'AV1':4 })\n",
        "alunos.append({'nome': 'Aluno 19', 'curso': 'Sistemas de Informação', 'AV1':2 })\n",
        "alunos.append({'nome': 'Aluno 20', 'curso': 'Análise e Desenvolvimento de Sistemas', 'AV1':9 })"
      ],
      "execution_count": null,
      "outputs": []
    },
    {
      "cell_type": "markdown",
      "metadata": {
        "id": "-mt9Dcg5IM3X"
      },
      "source": [
        "## Resolução"
      ]
    },
    {
      "cell_type": "code",
      "metadata": {
        "id": "9PPbVpL2G9nU",
        "colab": {
          "base_uri": "https://localhost:8080/"
        },
        "outputId": "2f2ff30d-369b-4ac7-9f0b-e044ff5b3235"
      },
      "source": [
        "# Notas Gerais\n",
        "# desenvolver aqui o código\n",
        "media  = 0\n",
        "notas = []\n",
        "\n",
        "for aluno in alunos: \n",
        "  for dado in aluno.keys(): \n",
        "    if dado == 'AV1':\n",
        "      media += aluno[dado]\n",
        "      notas = notas + [ aluno[dado] ]\n",
        "\n",
        "print('Notas Gerais:')\n",
        "print('Maior nota: ', max(notas))\n",
        "print('Menor nota: ', min(notas))\n",
        "print('Média.....: ', round((media/len(notas)),2))\n",
        "\n",
        "\n",
        "# Saída\n",
        "# A MAIOR nota é.....: 10\n",
        "# A MENOR nota é.....: 2\n",
        "# A MÉDIA das notas é: 6.86"
      ],
      "execution_count": null,
      "outputs": [
        {
          "output_type": "stream",
          "name": "stdout",
          "text": [
            "Notas Gerais:\n",
            "Maior nota:  10\n",
            "Menor nota:  2\n",
            "Média.....:  6.86\n"
          ]
        }
      ]
    },
    {
      "cell_type": "code",
      "metadata": {
        "id": "HODtGJzRIUor",
        "colab": {
          "base_uri": "https://localhost:8080/"
        },
        "outputId": "af2728a4-2f4a-42b7-d198-82865062411e"
      },
      "source": [
        "# Ciências da Computação\n",
        "# desenvolver aqui o código\n",
        "\n",
        "media = 0\n",
        "notascc = []\n",
        "for aluno in alunos:\n",
        "    if aluno['curso'] == 'Ciências da Computação':\n",
        "     notascc.append(aluno['AV1'])\n",
        "\n",
        "print('Notas Ciências da Computação:')\n",
        "print('Maior nota: ', max(notascc))\n",
        "print('Menor nota: ', min(notascc))\n",
        "print('Média.....: ', round((sum(notascc)/len(notascc)),2)) \n",
        "\n",
        "# Saída\n",
        "# A MAIOR nota é.....: 10\n",
        "# A MENOR nota é.....: 4\n",
        "# A MÉDIA das notas é: 7.0"
      ],
      "execution_count": null,
      "outputs": [
        {
          "output_type": "stream",
          "name": "stdout",
          "text": [
            "Notas Ciências da Computação:\n",
            "Maior nota:  10\n",
            "Menor nota:  4\n",
            "Média.....:  7.0\n"
          ]
        }
      ]
    },
    {
      "cell_type": "code",
      "metadata": {
        "id": "qm7o9uJLIV7V",
        "colab": {
          "base_uri": "https://localhost:8080/"
        },
        "outputId": "b7957169-0d27-4d47-adcb-1f9c0f4a162b"
      },
      "source": [
        "# Análise e Desenvolvimento de Sistemas\n",
        "# desenvolver aqui o código\n",
        "media = 0\n",
        "notas_ads = []\n",
        "for aluno in alunos:\n",
        "    if aluno['curso'] == 'Análise e Desenvolvimento de Sistemas':\n",
        "     notas_ads.append(aluno['AV1'])\n",
        "\n",
        "print('Notas Análise e Desenvolvimento de Sistemas:')\n",
        "print('Maior nota: ', max(notas_ads))\n",
        "print('Menor nota: ', min(notas_ads))\n",
        "print('Média.....: ', round((sum(notas_ads)/len(notas_ads)),2)) \n",
        "\n",
        "# Saída\n",
        "# A MAIOR nota é.....: 9\n",
        "# A MENOR nota é.....: 5\n",
        "# A MÉDIA das notas é: 7.56"
      ],
      "execution_count": null,
      "outputs": [
        {
          "output_type": "stream",
          "name": "stdout",
          "text": [
            "Notas Análise e Desenvolvimento de Sistemas:\n",
            "Maior nota:  9\n",
            "Menor nota:  5\n",
            "Média.....:  7.56\n"
          ]
        }
      ]
    },
    {
      "cell_type": "code",
      "metadata": {
        "id": "1e3oVnYTIV-N",
        "colab": {
          "base_uri": "https://localhost:8080/"
        },
        "outputId": "d04d2a82-7e70-4476-abec-f76cf52cb292"
      },
      "source": [
        "# Sistemas de Informação\n",
        "# desenvolver aqui o código\n",
        "media = 0\n",
        "notas_si = []\n",
        "for aluno in alunos:\n",
        "    if aluno['curso'] == 'Sistemas de Informação':\n",
        "     notas_si.append(aluno['AV1'])\n",
        "\n",
        "print('Notas Sistemas de Informação:')\n",
        "print('Maior nota: ', max(notas_si))\n",
        "print('Menor nota: ', min(notas_si))\n",
        "print('Média.....: ', round((sum(notas_si)/len(notas_si)),2)) \n",
        "\n",
        "# Saída\n",
        "# A MAIOR notas é....: 7\n",
        "# A MENOR nota é.....: 2\n",
        "# A MÉDIA das notas é: 5.4"
      ],
      "execution_count": null,
      "outputs": [
        {
          "output_type": "stream",
          "name": "stdout",
          "text": [
            "Notas Sistemas de Informação:\n",
            "Maior nota:  7\n",
            "Menor nota:  2\n",
            "Média.....:  5.4\n"
          ]
        }
      ]
    },
    {
      "cell_type": "markdown",
      "metadata": {
        "id": "FIzo4z_dHl6l"
      },
      "source": [
        "### Desenvolva um algoritmo que permita mostrar **de uma só vez** os resultados do exercício anterior para cada curso."
      ]
    },
    {
      "cell_type": "code",
      "metadata": {
        "id": "eWT5OxUFJeX-",
        "colab": {
          "base_uri": "https://localhost:8080/"
        },
        "outputId": "ed263d39-f66a-4e92-bd8d-b9fd07cc4619"
      },
      "source": [
        "# Resolução\n",
        "# desenvolver aqui o código\n",
        "media = 0\n",
        "notas_si = []\n",
        "notas_ads = []\n",
        "notascc = []\n",
        "\n",
        "for aluno in alunos:\n",
        "    if aluno['curso'] == 'Análise e Desenvolvimento de Sistemas':\n",
        "     notas_ads.append(aluno['AV1'])\n",
        "    elif aluno['curso'] == 'Sistemas de Informação':\n",
        "      notas_si.append(aluno['AV1'])\n",
        "    elif aluno['curso'] == 'Ciências da Computação':\n",
        "      notascc.append(aluno['AV1'])\n",
        "     \n",
        "print('Curso: Análise e Desenvolvimento de Sistemas:', notas_ads)\n",
        "print('Maior nota: ', max(notas_ads))\n",
        "print('Menor nota: ', min(notas_ads))\n",
        "print('Média.....: ', round((sum(notas_ads)/len(notas_ads)),2))      \n",
        "print('Curso: Ciências da Computação:', notascc)\n",
        "print('Maior nota: ', max(notascc))\n",
        "print('Menor nota: ', min(notascc))\n",
        "print('Média.....: ', round((sum(notascc)/len(notascc)),2)) \n",
        "print('Curso: Sistemas de Informação:', notas_si)\n",
        "print('Maior nota: ', max(notas_si))\n",
        "print('Menor nota: ', min(notas_si))\n",
        "print('Média.....: ', round((sum(notas_si)/len(notas_si)),2)) \n",
        "   \n",
        "# Saída\n",
        "# Curso: Análise e Desenvolvimento de Sistemas [7, 9, 5, 5, 9, 9, 7, 8, 9]\n",
        "# A MAIOR nota é.....: 9\n",
        "# A MENOR nota é.....: 5\n",
        "# A MÉDIA das notas é: 7.56\n",
        "\n",
        "# Curso: Ciências da Computação [8, 10, 10, 4, 7, 6, 4]\n",
        "# A MAIOR nota é.....: 10\n",
        "# A MENOR nota é.....: 4\n",
        "# A MÉDIA das notas é: 7.0\n",
        "\n",
        "# Curso: Sistemas de Informação [7, 6, 6, 6, 2]\n",
        "# A MAIOR nota é.....: 7\n",
        "# A MENOR nota é.....: 2\n",
        "# A MÉDIA das notas é: 5.4"
      ],
      "execution_count": null,
      "outputs": [
        {
          "output_type": "stream",
          "name": "stdout",
          "text": [
            "Curso: Análise e Desenvolvimento de Sistemas: [7, 9, 5, 5, 9, 9, 7, 8, 9]\n",
            "Maior nota:  9\n",
            "Menor nota:  5\n",
            "Média.....:  7.56\n",
            "Curso: Ciências da Computação: [8, 10, 10, 4, 7, 6, 4]\n",
            "Maior nota:  10\n",
            "Menor nota:  4\n",
            "Média.....:  7.0\n",
            "Curso: Sistemas de Informação: [7, 6, 6, 6, 2]\n",
            "Maior nota:  7\n",
            "Menor nota:  2\n",
            "Média.....:  5.4\n"
          ]
        }
      ]
    }
  ]
}